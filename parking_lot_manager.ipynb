{
  "nbformat": 4,
  "nbformat_minor": 0,
  "metadata": {
    "colab": {
      "private_outputs": true,
      "provenance": [],
      "authorship_tag": "ABX9TyMQs3jad3Ap7r5lBoN1dmuz",
      "include_colab_link": true
    },
    "kernelspec": {
      "name": "python3",
      "display_name": "Python 3"
    },
    "language_info": {
      "name": "python"
    }
  },
  "cells": [
    {
      "cell_type": "markdown",
      "metadata": {
        "id": "view-in-github",
        "colab_type": "text"
      },
      "source": [
        "<a href=\"https://colab.research.google.com/github/adrianyang2012/parking_lot_managing/blob/main/parking_lot_manager.ipynb\" target=\"_parent\"><img src=\"https://colab.research.google.com/assets/colab-badge.svg\" alt=\"Open In Colab\"/></a>"
      ]
    },
    {
      "cell_type": "code",
      "source": [
        "#debugger\n",
        "class Parking_lot:\n",
        "  def __init__(self,max_cars,max_height,price_per_hour):\n",
        "    self.max = max_cars\n",
        "    self.height_max = max_height\n",
        "    self.price = price_per_hour\n",
        "    self.current_cars = 0\n",
        "    self.total_money = 0\n",
        "    self.car_ids = []\n",
        "    self.car_payment = []\n",
        "    self.hours = 0\n",
        "  def add_car(self,car_height):\n",
        "    if self.max >= self.current_cars+1:\n",
        "      if car_height < self.height_max:\n",
        "        print('ok!')\n",
        "        print(f'you id is: {len(self.car_ids)}')\n",
        "        self.current_cars += 1\n",
        "        self.car_ids.append(len(self.car_ids))\n",
        "        self.car_payment.append(0)\n",
        "        print(f\"the price per hour is: {self.price}\")\n",
        "      else:\n",
        "        print('you car is to high!')\n",
        "    else:\n",
        "      print('sorry park later(no more space)')\n",
        "  def change_price(self,change):\n",
        "    self.price = change\n",
        "  def next(self):\n",
        "    self.hours +=1\n",
        "    for i in range(0,len(self.car_payment)):\n",
        "      self.car_payment[i] += self.price\n",
        "  def check_out(self,id):\n",
        "    print('ok!')\n",
        "    self.total_money += self.car_payment[id]\n",
        "    self.current_cars -= 1\n",
        "def print_options():\n",
        "  \n",
        "  print('1.add car')\n",
        "  print('2.change price')\n",
        "  print('3.next')\n",
        "  print('4.check out')\n",
        "  print('5.exit')\n"
      ],
      "metadata": {
        "id": "UCe-BlxOLW0X"
      },
      "execution_count": null,
      "outputs": []
    },
    {
      "cell_type": "code",
      "source": [],
      "metadata": {
        "id": "ULSoDebZNuF-"
      },
      "execution_count": null,
      "outputs": []
    },
    {
      "cell_type": "code",
      "execution_count": null,
      "metadata": {
        "id": "baomepv2IW3h"
      },
      "outputs": [],
      "source": [
        "print('welcome to parking lot thing!')\n",
        "if input('start a new parking lot?') == 'yes':\n",
        "  parking_lot = Parking_lot(int(input('type the max cars')),int(input('type the max car height')),int(input('what is the price per hour'))) \n",
        "else:\n",
        "  print('ok')\n",
        "while True:\n",
        "  print_options()\n",
        "  print(f\"you currently have: {parking_lot.total_money} dolars\")\n",
        "  option = input('type the option: ')\n",
        "  if option == '1':\n",
        "    car_height = int(input('what is cars height'))\n",
        "    parking_lot.add_car(car_height)\n",
        "\n",
        "  if option == '2':\n",
        "    print('what price')\n",
        "    new = int(input('type the new price: '))\n",
        "    parking_lot.change_price(new)\n",
        "\n",
        "  if option == '3':\n",
        "    print('ok!')\n",
        "    parking_lot.next()\n",
        "\n",
        "  if option == '4':\n",
        "    print('ok!')\n",
        "    id = int(input('what is your id'))\n",
        "    print(f\"pay {parking_lot.car_payment[id]}\")\n",
        "    parking_lot.check_out(id)\n",
        "  if option == '5':\n",
        "    print('ok')\n",
        "    break\n",
        "\n",
        "\n",
        "\n",
        "  \n"
      ]
    }
  ]
}